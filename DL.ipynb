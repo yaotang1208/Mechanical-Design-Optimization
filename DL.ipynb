{
 "cells": [
  {
   "cell_type": "markdown",
   "metadata": {},
   "source": [
    "Deep Learning Models of Optimization of Mechanical Design "
   ]
  },
  {
   "cell_type": "code",
   "execution_count": 1,
   "metadata": {},
   "outputs": [
    {
     "name": "stdout",
     "output_type": "stream",
     "text": [
      "2.0.0-beta1\n"
     ]
    }
   ],
   "source": [
    "from __future__ import absolute_import, division, print_function, unicode_literals\n",
    "\n",
    "import pathlib\n",
    "import matplotlib.pyplot as plt\n",
    "import pandas as pd\n",
    "# import seaborn as sns\n",
    "# import plotly\n",
    "import tensorflow as tf\n",
    "\n",
    "from tensorflow import keras\n",
    "from tensorflow.keras import layers\n",
    "\n",
    "from sklearn.metrics import r2_score\n",
    "# import tensorflow_transform as tft\n",
    "print(tf.__version__)"
   ]
  },
  {
   "cell_type": "code",
   "execution_count": 2,
   "metadata": {},
   "outputs": [],
   "source": [
    "def plot_result(y_test,y_pred):\n",
    "    figure, axes = plt.subplots(2, 2,figsize = (10,10))\n",
    "    \n",
    "    row,col = 0, 0\n",
    "    r2_00 = r2_score(y_test['Mr_t'], y_pred['Mr_t'])\n",
    "    axes[row,col].scatter(x=y_test['Mr_t'],y = y_pred['Mr_t'])\n",
    "    axes[row,col].plot([-6,2],[-6,2])\n",
    "    axes[row,col].set_title('Mr_t',fontsize = 16)\n",
    "    axes[row,col].set_xlabel('Test')\n",
    "    axes[row,col].set_ylabel('Predict')\n",
    "    axes[row,col].set_aspect('equal', 'box')\n",
    "    axes[row,col].text(-4,1,'R2 = {:3.3f}'.format(r2_00),fontsize = 16)\n",
    "    \n",
    "    row,col = 0, 1\n",
    "    r2_01 = r2_score(y_test['Mt_t'], y_pred['Mt_t'])\n",
    "    axes[row,col].scatter(x=y_test['Mt_t'],y = y_pred['Mt_t'])\n",
    "    axes[row,col].plot([-4,2],[-4,2])\n",
    "    axes[row,col].set_title('Mt_t',fontsize = 16)\n",
    "    axes[row,col].set_xlabel('Test')\n",
    "    axes[row,col].set_ylabel('Predict')\n",
    "    axes[row,col].set_aspect('equal', 'box')\n",
    "    axes[row,col].text(-3,1,'R2 = {:3.3f}'.format(r2_01),fontsize = 16)\n",
    "    \n",
    "    row,col = 1, 0\n",
    "    r2_10 = r2_score(y_test['Mr_c'], y_pred['Mr_c'])\n",
    "    axes[row,col].scatter(x=y_test['Mr_c'],y = y_pred['Mr_c'])\n",
    "    axes[row,col].plot([-2,10],[-2,10])\n",
    "    axes[row,col].set_title('Mr_c',fontsize = 16)\n",
    "    axes[row,col].set_xlabel('Test')\n",
    "    axes[row,col].set_ylabel('Predict')\n",
    "    axes[row,col].set_aspect('equal', 'box')\n",
    "    axes[row,col].text(0,8,'R2 = {:3.3f}'.format(r2_10),fontsize = 16)\n",
    "    \n",
    "    row,col = 1, 1\n",
    "    r2_11 = r2_score(y_test['Mt_c'], y_pred['Mt_c'])\n",
    "    axes[row,col].scatter(x=y_test['Mr_c'],y = y_pred['Mr_c'])\n",
    "    axes[row,col].plot([-2,6],[-2,6])\n",
    "    axes[row,col].set_title('Mt_c',fontsize = 16)\n",
    "    axes[row,col].set_xlabel('Test')\n",
    "    axes[row,col].set_ylabel('Predict')\n",
    "    axes[row,col].set_aspect('equal', 'box')\n",
    "    axes[row,col].text(0,8,'R2 = {:3.3f}'.format(r2_11),fontsize = 16)"
   ]
  },
  {
   "cell_type": "code",
   "execution_count": 3,
   "metadata": {},
   "outputs": [],
   "source": [
    "FILE = '5184doe.csv'\n",
    "df_doe = pd.read_csv(FILE)\n",
    "# df_doe.head()"
   ]
  },
  {
   "cell_type": "code",
   "execution_count": 4,
   "metadata": {},
   "outputs": [],
   "source": [
    "# X and y for supervised learning\n",
    "X = df_doe.drop(['Sample','Mr_t','Mt_t','Mr_c','Mt_c'],axis = 1)\n",
    "y = df_doe[['Mr_t','Mt_t','Mr_c','Mt_c']]"
   ]
  },
  {
   "cell_type": "code",
   "execution_count": 5,
   "metadata": {},
   "outputs": [],
   "source": [
    "# Split train and test data\n",
    "from sklearn.model_selection import train_test_split\n",
    "X_train_pre, X_test_pre, y_train, y_test = train_test_split(X, y)"
   ]
  },
  {
   "cell_type": "code",
   "execution_count": 6,
   "metadata": {},
   "outputs": [],
   "source": [
    "# Preprocessing & Normalization\n",
    "from sklearn.preprocessing import MinMaxScaler, StandardScaler\n",
    "scaler = StandardScaler()\n",
    "scaler.fit(X_train_pre)\n",
    "# Train and Test data before feature selection\n",
    "X_train = scaler.transform(X_train_pre)\n",
    "X_test = scaler.transform(X_test_pre)"
   ]
  },
  {
   "cell_type": "code",
   "execution_count": 7,
   "metadata": {},
   "outputs": [],
   "source": [
    "def build_model():\n",
    "    model = keras.Sequential([\n",
    "        layers.Dense(64, activation='relu', input_dim=X_train.shape[1]),\n",
    "#         layers.Dense(64, activation='relu',activity_regularizer = 'l2'),\n",
    "        layers.Dense(32, activation='relu',activity_regularizer = 'l2'),\n",
    "        layers.Dense(4)])\n",
    "    \n",
    "    optimizer = tf.keras.optimizers.RMSprop(0.001)\n",
    "    \n",
    "    model.compile(optimizer=optimizer,\n",
    "              loss='mse',\n",
    "              metrics=['mae', 'mse'])\n",
    "    return model"
   ]
  },
  {
   "cell_type": "code",
   "execution_count": 8,
   "metadata": {},
   "outputs": [],
   "source": [
    "class PrintDot(keras.callbacks.Callback):\n",
    "    def on_epoch_end(self, epoch, logs):\n",
    "        if epoch % 100 == 0:\n",
    "            print('.', end='')"
   ]
  },
  {
   "cell_type": "code",
   "execution_count": 9,
   "metadata": {},
   "outputs": [],
   "source": [
    "def plot_history(history):\n",
    "    hist = pd.DataFrame(history.history)\n",
    "    hist['epoch'] = history.epoch\n",
    "    \n",
    "    plt.figure()\n",
    "    plt.xlabel('Epoch')\n",
    "    plt.ylabel('Mean Abs Error')\n",
    "    plt.plot(hist['epoch'], hist['mae'],\n",
    "           label='Train Error')\n",
    "    plt.plot(hist['epoch'], hist['val_mae'],\n",
    "           label = 'Val Error')\n",
    "#   plt.ylim([0,5])\n",
    "    plt.legend()\n",
    "\n",
    "    plt.figure()\n",
    "    plt.xlabel('Epoch')\n",
    "    plt.ylabel('Mean Square Error')\n",
    "    plt.plot(hist['epoch'], hist['mse'],\n",
    "           label='Train Error')\n",
    "    plt.plot(hist['epoch'], hist['val_mse'],\n",
    "           label = 'Val Error')\n",
    "#   plt.ylim([0,20])\n",
    "    plt.legend()\n",
    "    plt.show()"
   ]
  },
  {
   "cell_type": "code",
   "execution_count": 10,
   "metadata": {},
   "outputs": [],
   "source": [
    "model = build_model()"
   ]
  },
  {
   "cell_type": "code",
   "execution_count": 11,
   "metadata": {},
   "outputs": [
    {
     "name": "stdout",
     "output_type": "stream",
     "text": [
      "Model: \"sequential\"\n",
      "_________________________________________________________________\n",
      "Layer (type)                 Output Shape              Param #   \n",
      "=================================================================\n",
      "dense (Dense)                (None, 64)                640       \n",
      "_________________________________________________________________\n",
      "dense_1 (Dense)              (None, 32)                2080      \n",
      "_________________________________________________________________\n",
      "dense_2 (Dense)              (None, 4)                 132       \n",
      "=================================================================\n",
      "Total params: 2,852\n",
      "Trainable params: 2,852\n",
      "Non-trainable params: 0\n",
      "_________________________________________________________________\n"
     ]
    }
   ],
   "source": [
    "model.summary()"
   ]
  },
  {
   "cell_type": "code",
   "execution_count": 12,
   "metadata": {},
   "outputs": [
    {
     "name": "stdout",
     "output_type": "stream",
     "text": [
      "."
     ]
    }
   ],
   "source": [
    "EPOCHS = 100\n",
    "early_stop = keras.callbacks.EarlyStopping(monitor='val_loss',patience=50, verbose = 1)\n",
    "history = model.fit(X_train, y_train, epochs=EPOCHS,\n",
    "                    validation_split = 0.2,\n",
    "                    verbose=0,callbacks=[early_stop,PrintDot()])"
   ]
  },
  {
   "cell_type": "code",
   "execution_count": 13,
   "metadata": {},
   "outputs": [
    {
     "data": {
      "text/html": [
       "<div>\n",
       "<style scoped>\n",
       "    .dataframe tbody tr th:only-of-type {\n",
       "        vertical-align: middle;\n",
       "    }\n",
       "\n",
       "    .dataframe tbody tr th {\n",
       "        vertical-align: top;\n",
       "    }\n",
       "\n",
       "    .dataframe thead th {\n",
       "        text-align: right;\n",
       "    }\n",
       "</style>\n",
       "<table border=\"1\" class=\"dataframe\">\n",
       "  <thead>\n",
       "    <tr style=\"text-align: right;\">\n",
       "      <th></th>\n",
       "      <th>loss</th>\n",
       "      <th>mae</th>\n",
       "      <th>mse</th>\n",
       "      <th>val_loss</th>\n",
       "      <th>val_mae</th>\n",
       "      <th>val_mse</th>\n",
       "      <th>epoch</th>\n",
       "    </tr>\n",
       "  </thead>\n",
       "  <tbody>\n",
       "    <tr>\n",
       "      <th>95</th>\n",
       "      <td>0.012790</td>\n",
       "      <td>0.056999</td>\n",
       "      <td>0.007890</td>\n",
       "      <td>0.014931</td>\n",
       "      <td>0.062936</td>\n",
       "      <td>0.010262</td>\n",
       "      <td>95</td>\n",
       "    </tr>\n",
       "    <tr>\n",
       "      <th>96</th>\n",
       "      <td>0.012694</td>\n",
       "      <td>0.056891</td>\n",
       "      <td>0.007829</td>\n",
       "      <td>0.014054</td>\n",
       "      <td>0.057172</td>\n",
       "      <td>0.009211</td>\n",
       "      <td>96</td>\n",
       "    </tr>\n",
       "    <tr>\n",
       "      <th>97</th>\n",
       "      <td>0.012562</td>\n",
       "      <td>0.056157</td>\n",
       "      <td>0.007738</td>\n",
       "      <td>0.016035</td>\n",
       "      <td>0.066512</td>\n",
       "      <td>0.011153</td>\n",
       "      <td>97</td>\n",
       "    </tr>\n",
       "    <tr>\n",
       "      <th>98</th>\n",
       "      <td>0.012427</td>\n",
       "      <td>0.055938</td>\n",
       "      <td>0.007639</td>\n",
       "      <td>0.013444</td>\n",
       "      <td>0.057572</td>\n",
       "      <td>0.008697</td>\n",
       "      <td>98</td>\n",
       "    </tr>\n",
       "    <tr>\n",
       "      <th>99</th>\n",
       "      <td>0.012572</td>\n",
       "      <td>0.056748</td>\n",
       "      <td>0.007827</td>\n",
       "      <td>0.016286</td>\n",
       "      <td>0.066408</td>\n",
       "      <td>0.011747</td>\n",
       "      <td>99</td>\n",
       "    </tr>\n",
       "  </tbody>\n",
       "</table>\n",
       "</div>"
      ],
      "text/plain": [
       "        loss       mae       mse  val_loss   val_mae   val_mse  epoch\n",
       "95  0.012790  0.056999  0.007890  0.014931  0.062936  0.010262     95\n",
       "96  0.012694  0.056891  0.007829  0.014054  0.057172  0.009211     96\n",
       "97  0.012562  0.056157  0.007738  0.016035  0.066512  0.011153     97\n",
       "98  0.012427  0.055938  0.007639  0.013444  0.057572  0.008697     98\n",
       "99  0.012572  0.056748  0.007827  0.016286  0.066408  0.011747     99"
      ]
     },
     "execution_count": 13,
     "metadata": {},
     "output_type": "execute_result"
    }
   ],
   "source": [
    "hist = pd.DataFrame(history.history)\n",
    "hist['epoch'] = history.epoch\n",
    "hist.tail()"
   ]
  },
  {
   "cell_type": "code",
   "execution_count": 14,
   "metadata": {},
   "outputs": [
    {
     "name": "stdout",
     "output_type": "stream",
     "text": [
      "Testing set Mean Abs Error:  0.06\n"
     ]
    }
   ],
   "source": [
    "loss, mae, mse = model.evaluate(X_test, y_test, verbose=0)\n",
    "print(\"Testing set Mean Abs Error: {:5.2f}\".format(mae))"
   ]
  },
  {
   "cell_type": "code",
   "execution_count": 15,
   "metadata": {},
   "outputs": [
    {
     "data": {
      "image/png": "[encoded data removed]",
      "text/plain": [
       "<Figure size 432x288 with 1 Axes>"
      ]
     },
     "metadata": {
      "needs_background": "light"
     },
     "output_type": "display_data"
    },
    {
     "data": {
      "image/png": "[encoded data removed]",
      "text/plain": [
       "<Figure size 432x288 with 1 Axes>"
      ]
     },
     "metadata": {
      "needs_background": "light"
     },
     "output_type": "display_data"
    }
   ],
   "source": [
    "plot_history(history)"
   ]
  },
  {
   "cell_type": "code",
   "execution_count": 16,
   "metadata": {},
   "outputs": [
    {
     "data": {
      "image/png": "[encoded data removed]",
      "text/plain": [
       "<Figure size 720x720 with 4 Axes>"
      ]
     },
     "metadata": {
      "needs_background": "light"
     },
     "output_type": "display_data"
    }
   ],
   "source": [
    "# y_pred = model.predict(X_test)\n",
    "y_pred = pd.DataFrame(model.predict(X_test), columns = ['Mr_t','Mt_t','Mr_c','Mt_c'])\n",
    "plot_result(y_test,y_pred)"
   ]
  },
  {
   "cell_type": "code",
   "execution_count": null,
   "metadata": {},
   "outputs": [],
   "source": []
  }
 ],
 "metadata": {
  "kernelspec": {
   "display_name": "Python 3",
   "language": "python",
   "name": "python3"
  },
  "language_info": {
   "codemirror_mode": {
    "name": "ipython",
    "version": 3
   },
   "file_extension": ".py",
   "mimetype": "text/x-python",
   "name": "python",
   "nbconvert_exporter": "python",
   "pygments_lexer": "ipython3",
   "version": "3.7.3"
  }
 },
 "nbformat": 4,
 "nbformat_minor": 4
}

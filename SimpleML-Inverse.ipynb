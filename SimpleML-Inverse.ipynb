{
 "cells": [
  {
   "cell_type": "markdown",
   "metadata": {},
   "source": [
    "# Task: Mechanical Design Optimization"
   ]
  },
  {
   "cell_type": "markdown",
   "metadata": {},
   "source": [
    "Objective: To build machine learning models for the inverse problem of mechanical design optimization.\n",
    "\n",
    "Description: Engineers use numerical models to analyze the behavior of a system. But when the models are too complex, the numerical simulation can last from a few hours to a few days. In addition, during the optimization process, one might need tens if not hundreds of trials. So in order to simplify the process, we need to build a simple surrogate model that yields similar results to the numerical one. We use machine learning model to build the surrogate model. \n",
    "\n",
    "Data: The dataset contains the data of about 6000 numerical simulations (finite element models, FEM).There are 9 input parameters and 4 output results. (https://www.kaggle.com/daalgi/fem-simulations)\n",
    "\n",
    "Inputs (continuous and positive values): (1) load parameters: ecc, N, gammaG. (2) material parameters: Esoil, Econc. (3) geometry parameters: Dbot, H1, H2, H3.\n",
    "\n",
    "Outputs (continuous values): (1) stress related results: Mr_t, Mt_t, Mr_c, Mt_c.\n",
    "\n",
    "Build simple machine learning modeling using Python scikit-learn, Pandas, Numpy, and Seaborn."
   ]
  },
  {
   "cell_type": "code",
   "execution_count": 1,
   "metadata": {},
   "outputs": [],
   "source": [
    "import os\n",
    "import numpy as np\n",
    "import matplotlib.pyplot as plt\n",
    "import pandas as pd\n",
    "import seaborn as sns\n",
    "from sklearn.metrics import r2_score\n",
    "\n",
    "%matplotlib inline"
   ]
  },
  {
   "cell_type": "code",
   "execution_count": 2,
   "metadata": {},
   "outputs": [],
   "source": [
    "FILE = '5184doe.csv'"
   ]
  },
  {
   "cell_type": "code",
   "execution_count": 3,
   "metadata": {},
   "outputs": [
    {
     "data": {
      "text/html": [
       "<div>\n",
       "<style scoped>\n",
       "    .dataframe tbody tr th:only-of-type {\n",
       "        vertical-align: middle;\n",
       "    }\n",
       "\n",
       "    .dataframe tbody tr th {\n",
       "        vertical-align: top;\n",
       "    }\n",
       "\n",
       "    .dataframe thead th {\n",
       "        text-align: right;\n",
       "    }\n",
       "</style>\n",
       "<table border=\"1\" class=\"dataframe\">\n",
       "  <thead>\n",
       "    <tr style=\"text-align: right;\">\n",
       "      <th></th>\n",
       "      <th>Sample</th>\n",
       "      <th>ecc</th>\n",
       "      <th>N</th>\n",
       "      <th>gammaG</th>\n",
       "      <th>Esoil</th>\n",
       "      <th>Econc</th>\n",
       "      <th>Dbot</th>\n",
       "      <th>H1</th>\n",
       "      <th>H2</th>\n",
       "      <th>H3</th>\n",
       "      <th>Mr_t</th>\n",
       "      <th>Mt_t</th>\n",
       "      <th>Mr_c</th>\n",
       "      <th>Mt_c</th>\n",
       "    </tr>\n",
       "  </thead>\n",
       "  <tbody>\n",
       "    <tr>\n",
       "      <th>0</th>\n",
       "      <td>1</td>\n",
       "      <td>0</td>\n",
       "      <td>2000</td>\n",
       "      <td>0.9</td>\n",
       "      <td>25</td>\n",
       "      <td>30000</td>\n",
       "      <td>17</td>\n",
       "      <td>0.8</td>\n",
       "      <td>1.0</td>\n",
       "      <td>0.8</td>\n",
       "      <td>0.082100</td>\n",
       "      <td>0.055648</td>\n",
       "      <td>0.082100</td>\n",
       "      <td>0.055648</td>\n",
       "    </tr>\n",
       "    <tr>\n",
       "      <th>1</th>\n",
       "      <td>2</td>\n",
       "      <td>10</td>\n",
       "      <td>2000</td>\n",
       "      <td>0.9</td>\n",
       "      <td>25</td>\n",
       "      <td>30000</td>\n",
       "      <td>17</td>\n",
       "      <td>0.8</td>\n",
       "      <td>1.0</td>\n",
       "      <td>0.8</td>\n",
       "      <td>-0.597084</td>\n",
       "      <td>-0.233470</td>\n",
       "      <td>1.160648</td>\n",
       "      <td>0.605016</td>\n",
       "    </tr>\n",
       "    <tr>\n",
       "      <th>2</th>\n",
       "      <td>3</td>\n",
       "      <td>18</td>\n",
       "      <td>2000</td>\n",
       "      <td>0.9</td>\n",
       "      <td>25</td>\n",
       "      <td>30000</td>\n",
       "      <td>17</td>\n",
       "      <td>0.8</td>\n",
       "      <td>1.0</td>\n",
       "      <td>0.8</td>\n",
       "      <td>-1.094196</td>\n",
       "      <td>-0.566130</td>\n",
       "      <td>1.908188</td>\n",
       "      <td>0.947770</td>\n",
       "    </tr>\n",
       "    <tr>\n",
       "      <th>3</th>\n",
       "      <td>4</td>\n",
       "      <td>26</td>\n",
       "      <td>2000</td>\n",
       "      <td>0.9</td>\n",
       "      <td>25</td>\n",
       "      <td>30000</td>\n",
       "      <td>17</td>\n",
       "      <td>0.8</td>\n",
       "      <td>1.0</td>\n",
       "      <td>0.8</td>\n",
       "      <td>-1.416485</td>\n",
       "      <td>-0.865039</td>\n",
       "      <td>2.844706</td>\n",
       "      <td>1.310545</td>\n",
       "    </tr>\n",
       "    <tr>\n",
       "      <th>4</th>\n",
       "      <td>5</td>\n",
       "      <td>0</td>\n",
       "      <td>2000</td>\n",
       "      <td>0.9</td>\n",
       "      <td>25</td>\n",
       "      <td>37000</td>\n",
       "      <td>17</td>\n",
       "      <td>0.8</td>\n",
       "      <td>1.0</td>\n",
       "      <td>0.8</td>\n",
       "      <td>0.079570</td>\n",
       "      <td>0.054213</td>\n",
       "      <td>0.079570</td>\n",
       "      <td>0.054213</td>\n",
       "    </tr>\n",
       "  </tbody>\n",
       "</table>\n",
       "</div>"
      ],
      "text/plain": [
       "   Sample  ecc     N  gammaG  Esoil  Econc  Dbot   H1   H2   H3      Mr_t  \\\n",
       "0       1    0  2000     0.9     25  30000    17  0.8  1.0  0.8  0.082100   \n",
       "1       2   10  2000     0.9     25  30000    17  0.8  1.0  0.8 -0.597084   \n",
       "2       3   18  2000     0.9     25  30000    17  0.8  1.0  0.8 -1.094196   \n",
       "3       4   26  2000     0.9     25  30000    17  0.8  1.0  0.8 -1.416485   \n",
       "4       5    0  2000     0.9     25  37000    17  0.8  1.0  0.8  0.079570   \n",
       "\n",
       "       Mt_t      Mr_c      Mt_c  \n",
       "0  0.055648  0.082100  0.055648  \n",
       "1 -0.233470  1.160648  0.605016  \n",
       "2 -0.566130  1.908188  0.947770  \n",
       "3 -0.865039  2.844706  1.310545  \n",
       "4  0.054213  0.079570  0.054213  "
      ]
     },
     "execution_count": 3,
     "metadata": {},
     "output_type": "execute_result"
    }
   ],
   "source": [
    "df_doe = pd.read_csv(FILE)\n",
    "df_doe.head()"
   ]
  },
  {
   "cell_type": "code",
   "execution_count": 4,
   "metadata": {},
   "outputs": [
    {
     "data": {
      "text/html": [
       "<div>\n",
       "<style scoped>\n",
       "    .dataframe tbody tr th:only-of-type {\n",
       "        vertical-align: middle;\n",
       "    }\n",
       "\n",
       "    .dataframe tbody tr th {\n",
       "        vertical-align: top;\n",
       "    }\n",
       "\n",
       "    .dataframe thead th {\n",
       "        text-align: right;\n",
       "    }\n",
       "</style>\n",
       "<table border=\"1\" class=\"dataframe\">\n",
       "  <thead>\n",
       "    <tr style=\"text-align: right;\">\n",
       "      <th></th>\n",
       "      <th>Sample</th>\n",
       "      <th>ecc</th>\n",
       "      <th>N</th>\n",
       "      <th>gammaG</th>\n",
       "      <th>Esoil</th>\n",
       "      <th>Econc</th>\n",
       "      <th>Dbot</th>\n",
       "      <th>H1</th>\n",
       "      <th>H2</th>\n",
       "      <th>H3</th>\n",
       "      <th>Mr_t</th>\n",
       "      <th>Mt_t</th>\n",
       "      <th>Mr_c</th>\n",
       "      <th>Mt_c</th>\n",
       "    </tr>\n",
       "  </thead>\n",
       "  <tbody>\n",
       "    <tr>\n",
       "      <th>count</th>\n",
       "      <td>5184.000000</td>\n",
       "      <td>5184.000000</td>\n",
       "      <td>5184.000000</td>\n",
       "      <td>5184.00000</td>\n",
       "      <td>5184.000000</td>\n",
       "      <td>5184.000000</td>\n",
       "      <td>5184.000000</td>\n",
       "      <td>5184.00000</td>\n",
       "      <td>5184.000000</td>\n",
       "      <td>5184.00000</td>\n",
       "      <td>5184.000000</td>\n",
       "      <td>5184.000000</td>\n",
       "      <td>5184.000000</td>\n",
       "      <td>5184.000000</td>\n",
       "    </tr>\n",
       "    <tr>\n",
       "      <th>mean</th>\n",
       "      <td>2592.500000</td>\n",
       "      <td>13.500000</td>\n",
       "      <td>3500.000000</td>\n",
       "      <td>1.00000</td>\n",
       "      <td>50.000000</td>\n",
       "      <td>33500.000000</td>\n",
       "      <td>20.000000</td>\n",
       "      <td>1.20000</td>\n",
       "      <td>1.500000</td>\n",
       "      <td>1.20000</td>\n",
       "      <td>-1.629734</td>\n",
       "      <td>-0.810779</td>\n",
       "      <td>2.650433</td>\n",
       "      <td>1.518741</td>\n",
       "    </tr>\n",
       "    <tr>\n",
       "      <th>std</th>\n",
       "      <td>1496.636228</td>\n",
       "      <td>9.631609</td>\n",
       "      <td>1500.144697</td>\n",
       "      <td>0.10001</td>\n",
       "      <td>25.002412</td>\n",
       "      <td>3500.337626</td>\n",
       "      <td>2.449726</td>\n",
       "      <td>0.32663</td>\n",
       "      <td>0.408288</td>\n",
       "      <td>0.32663</td>\n",
       "      <td>1.426607</td>\n",
       "      <td>0.859657</td>\n",
       "      <td>2.475025</td>\n",
       "      <td>1.226075</td>\n",
       "    </tr>\n",
       "    <tr>\n",
       "      <th>min</th>\n",
       "      <td>1.000000</td>\n",
       "      <td>0.000000</td>\n",
       "      <td>2000.000000</td>\n",
       "      <td>0.90000</td>\n",
       "      <td>25.000000</td>\n",
       "      <td>30000.000000</td>\n",
       "      <td>17.000000</td>\n",
       "      <td>0.80000</td>\n",
       "      <td>1.000000</td>\n",
       "      <td>0.80000</td>\n",
       "      <td>-6.027412</td>\n",
       "      <td>-2.968574</td>\n",
       "      <td>0.024414</td>\n",
       "      <td>0.014080</td>\n",
       "    </tr>\n",
       "    <tr>\n",
       "      <th>25%</th>\n",
       "      <td>1296.750000</td>\n",
       "      <td>7.500000</td>\n",
       "      <td>2000.000000</td>\n",
       "      <td>0.90000</td>\n",
       "      <td>25.000000</td>\n",
       "      <td>30000.000000</td>\n",
       "      <td>17.000000</td>\n",
       "      <td>0.80000</td>\n",
       "      <td>1.000000</td>\n",
       "      <td>0.80000</td>\n",
       "      <td>-2.402849</td>\n",
       "      <td>-1.191169</td>\n",
       "      <td>0.251651</td>\n",
       "      <td>0.458440</td>\n",
       "    </tr>\n",
       "    <tr>\n",
       "      <th>50%</th>\n",
       "      <td>2592.500000</td>\n",
       "      <td>14.000000</td>\n",
       "      <td>3500.000000</td>\n",
       "      <td>1.00000</td>\n",
       "      <td>50.000000</td>\n",
       "      <td>33500.000000</td>\n",
       "      <td>20.000000</td>\n",
       "      <td>1.20000</td>\n",
       "      <td>1.500000</td>\n",
       "      <td>1.20000</td>\n",
       "      <td>-1.554450</td>\n",
       "      <td>-0.620024</td>\n",
       "      <td>2.138881</td>\n",
       "      <td>1.349318</td>\n",
       "    </tr>\n",
       "    <tr>\n",
       "      <th>75%</th>\n",
       "      <td>3888.250000</td>\n",
       "      <td>20.000000</td>\n",
       "      <td>5000.000000</td>\n",
       "      <td>1.10000</td>\n",
       "      <td>75.000000</td>\n",
       "      <td>37000.000000</td>\n",
       "      <td>23.000000</td>\n",
       "      <td>1.60000</td>\n",
       "      <td>2.000000</td>\n",
       "      <td>1.60000</td>\n",
       "      <td>-0.176328</td>\n",
       "      <td>0.018693</td>\n",
       "      <td>3.716968</td>\n",
       "      <td>2.413945</td>\n",
       "    </tr>\n",
       "    <tr>\n",
       "      <th>max</th>\n",
       "      <td>5184.000000</td>\n",
       "      <td>26.000000</td>\n",
       "      <td>5000.000000</td>\n",
       "      <td>1.10000</td>\n",
       "      <td>75.000000</td>\n",
       "      <td>37000.000000</td>\n",
       "      <td>23.000000</td>\n",
       "      <td>1.60000</td>\n",
       "      <td>2.000000</td>\n",
       "      <td>1.60000</td>\n",
       "      <td>0.251917</td>\n",
       "      <td>0.201895</td>\n",
       "      <td>9.408445</td>\n",
       "      <td>4.585227</td>\n",
       "    </tr>\n",
       "  </tbody>\n",
       "</table>\n",
       "</div>"
      ],
      "text/plain": [
       "            Sample          ecc            N      gammaG        Esoil  \\\n",
       "count  5184.000000  5184.000000  5184.000000  5184.00000  5184.000000   \n",
       "mean   2592.500000    13.500000  3500.000000     1.00000    50.000000   \n",
       "std    1496.636228     9.631609  1500.144697     0.10001    25.002412   \n",
       "min       1.000000     0.000000  2000.000000     0.90000    25.000000   \n",
       "25%    1296.750000     7.500000  2000.000000     0.90000    25.000000   \n",
       "50%    2592.500000    14.000000  3500.000000     1.00000    50.000000   \n",
       "75%    3888.250000    20.000000  5000.000000     1.10000    75.000000   \n",
       "max    5184.000000    26.000000  5000.000000     1.10000    75.000000   \n",
       "\n",
       "              Econc         Dbot          H1           H2          H3  \\\n",
       "count   5184.000000  5184.000000  5184.00000  5184.000000  5184.00000   \n",
       "mean   33500.000000    20.000000     1.20000     1.500000     1.20000   \n",
       "std     3500.337626     2.449726     0.32663     0.408288     0.32663   \n",
       "min    30000.000000    17.000000     0.80000     1.000000     0.80000   \n",
       "25%    30000.000000    17.000000     0.80000     1.000000     0.80000   \n",
       "50%    33500.000000    20.000000     1.20000     1.500000     1.20000   \n",
       "75%    37000.000000    23.000000     1.60000     2.000000     1.60000   \n",
       "max    37000.000000    23.000000     1.60000     2.000000     1.60000   \n",
       "\n",
       "              Mr_t         Mt_t         Mr_c         Mt_c  \n",
       "count  5184.000000  5184.000000  5184.000000  5184.000000  \n",
       "mean     -1.629734    -0.810779     2.650433     1.518741  \n",
       "std       1.426607     0.859657     2.475025     1.226075  \n",
       "min      -6.027412    -2.968574     0.024414     0.014080  \n",
       "25%      -2.402849    -1.191169     0.251651     0.458440  \n",
       "50%      -1.554450    -0.620024     2.138881     1.349318  \n",
       "75%      -0.176328     0.018693     3.716968     2.413945  \n",
       "max       0.251917     0.201895     9.408445     4.585227  "
      ]
     },
     "execution_count": 4,
     "metadata": {},
     "output_type": "execute_result"
    }
   ],
   "source": [
    "df_doe.describe()"
   ]
  },
  {
   "cell_type": "code",
   "execution_count": 5,
   "metadata": {},
   "outputs": [
    {
     "data": {
      "text/plain": [
       "<matplotlib.axes._subplots.AxesSubplot at 0x22cc59c6198>"
      ]
     },
     "execution_count": 5,
     "metadata": {},
     "output_type": "execute_result"
    },
    {
     "data": {
      "image/png": "[encoded data removed]",
      "text/plain": [
       "<Figure size 1152x720 with 9 Axes>"
      ]
     },
     "metadata": {
      "needs_background": "light"
     },
     "output_type": "display_data"
    }
   ],
   "source": [
    "# count plot\n",
    "figure, axes = plt.subplots(3, 3,figsize = (16,10))\n",
    "row,col = 0, 0\n",
    "sns.countplot(x='ecc',data = df_doe, ax = axes[row,col])\n",
    "# axes[row,col].set_aspect('equal', 'box')\n",
    "\n",
    "row,col = 0, 1\n",
    "sns.countplot(x='N',data = df_doe, ax = axes[row,col])\n",
    "# axes[row,col].set_aspect('equal', 'box')\n",
    "\n",
    "row,col = 0, 2\n",
    "sns.countplot(x='gammaG',data = df_doe, ax = axes[row,col])\n",
    "# axes[row,col].set_aspect('equal', 'box')\n",
    "\n",
    "row,col = 1, 0\n",
    "sns.countplot(x='Esoil',data = df_doe, ax = axes[row,col])\n",
    "# axes[row,col].set_aspect('equal', 'box')\n",
    "\n",
    "row,col = 1, 1\n",
    "sns.countplot(x='Econc',data = df_doe, ax = axes[row,col])\n",
    "# axes[row,col].set_aspect('equal', 'box')\n",
    "\n",
    "row,col = 1, 2\n",
    "sns.countplot(x='Dbot',data = df_doe, ax = axes[row,col])\n",
    "# axes[row,col].set_aspect('equal', 'box')\n",
    "\n",
    "row,col = 2, 0\n",
    "sns.countplot(x='H1',data = df_doe, ax = axes[row,col])\n",
    "# axes[row,col].set_aspect('equal', 'box')\n",
    "\n",
    "row,col = 2, 1\n",
    "sns.countplot(x='H2',data = df_doe, ax = axes[row,col])\n",
    "# axes[row,col].set_aspect('equal', 'box')\n",
    "\n",
    "row,col = 2, 2\n",
    "sns.countplot(x='H3',data = df_doe, ax = axes[row,col])\n",
    "# axes[row,col].set_aspect('equal', 'box')"
   ]
  },
  {
   "cell_type": "code",
   "execution_count": 6,
   "metadata": {},
   "outputs": [],
   "source": [
    "# X and y for supervised learning\n",
    "X = df_doe.drop(['Sample','ecc'],axis = 1)\n",
    "y_pre = df_doe['ecc']"
   ]
  },
  {
   "cell_type": "code",
   "execution_count": 7,
   "metadata": {},
   "outputs": [
    {
     "data": {
      "text/html": [
       "<div>\n",
       "<style scoped>\n",
       "    .dataframe tbody tr th:only-of-type {\n",
       "        vertical-align: middle;\n",
       "    }\n",
       "\n",
       "    .dataframe tbody tr th {\n",
       "        vertical-align: top;\n",
       "    }\n",
       "\n",
       "    .dataframe thead th {\n",
       "        text-align: right;\n",
       "    }\n",
       "</style>\n",
       "<table border=\"1\" class=\"dataframe\">\n",
       "  <thead>\n",
       "    <tr style=\"text-align: right;\">\n",
       "      <th></th>\n",
       "      <th>0</th>\n",
       "      <th>10</th>\n",
       "      <th>18</th>\n",
       "      <th>26</th>\n",
       "    </tr>\n",
       "  </thead>\n",
       "  <tbody>\n",
       "    <tr>\n",
       "      <th>0</th>\n",
       "      <td>1</td>\n",
       "      <td>0</td>\n",
       "      <td>0</td>\n",
       "      <td>0</td>\n",
       "    </tr>\n",
       "    <tr>\n",
       "      <th>1</th>\n",
       "      <td>0</td>\n",
       "      <td>1</td>\n",
       "      <td>0</td>\n",
       "      <td>0</td>\n",
       "    </tr>\n",
       "    <tr>\n",
       "      <th>2</th>\n",
       "      <td>0</td>\n",
       "      <td>0</td>\n",
       "      <td>1</td>\n",
       "      <td>0</td>\n",
       "    </tr>\n",
       "    <tr>\n",
       "      <th>3</th>\n",
       "      <td>0</td>\n",
       "      <td>0</td>\n",
       "      <td>0</td>\n",
       "      <td>1</td>\n",
       "    </tr>\n",
       "    <tr>\n",
       "      <th>4</th>\n",
       "      <td>1</td>\n",
       "      <td>0</td>\n",
       "      <td>0</td>\n",
       "      <td>0</td>\n",
       "    </tr>\n",
       "  </tbody>\n",
       "</table>\n",
       "</div>"
      ],
      "text/plain": [
       "   0  10  18  26\n",
       "0  1   0   0   0\n",
       "1  0   1   0   0\n",
       "2  0   0   1   0\n",
       "3  0   0   0   1\n",
       "4  1   0   0   0"
      ]
     },
     "execution_count": 7,
     "metadata": {},
     "output_type": "execute_result"
    }
   ],
   "source": [
    "y_str = y_pre.astype(str)\n",
    "y = pd.get_dummies(y_str)\n",
    "y.head()"
   ]
  },
  {
   "cell_type": "code",
   "execution_count": 8,
   "metadata": {},
   "outputs": [
    {
     "data": {
      "text/html": [
       "<div>\n",
       "<style scoped>\n",
       "    .dataframe tbody tr th:only-of-type {\n",
       "        vertical-align: middle;\n",
       "    }\n",
       "\n",
       "    .dataframe tbody tr th {\n",
       "        vertical-align: top;\n",
       "    }\n",
       "\n",
       "    .dataframe thead th {\n",
       "        text-align: right;\n",
       "    }\n",
       "</style>\n",
       "<table border=\"1\" class=\"dataframe\">\n",
       "  <thead>\n",
       "    <tr style=\"text-align: right;\">\n",
       "      <th></th>\n",
       "      <th>N</th>\n",
       "      <th>gammaG</th>\n",
       "      <th>Esoil</th>\n",
       "      <th>Econc</th>\n",
       "      <th>Dbot</th>\n",
       "      <th>H1</th>\n",
       "      <th>H2</th>\n",
       "      <th>H3</th>\n",
       "      <th>Mr_t</th>\n",
       "      <th>Mt_t</th>\n",
       "      <th>Mr_c</th>\n",
       "      <th>Mt_c</th>\n",
       "    </tr>\n",
       "  </thead>\n",
       "  <tbody>\n",
       "    <tr>\n",
       "      <th>0</th>\n",
       "      <td>2000</td>\n",
       "      <td>0.9</td>\n",
       "      <td>25</td>\n",
       "      <td>30000</td>\n",
       "      <td>17</td>\n",
       "      <td>0.8</td>\n",
       "      <td>1.0</td>\n",
       "      <td>0.8</td>\n",
       "      <td>0.082100</td>\n",
       "      <td>0.055648</td>\n",
       "      <td>0.082100</td>\n",
       "      <td>0.055648</td>\n",
       "    </tr>\n",
       "    <tr>\n",
       "      <th>1</th>\n",
       "      <td>2000</td>\n",
       "      <td>0.9</td>\n",
       "      <td>25</td>\n",
       "      <td>30000</td>\n",
       "      <td>17</td>\n",
       "      <td>0.8</td>\n",
       "      <td>1.0</td>\n",
       "      <td>0.8</td>\n",
       "      <td>-0.597084</td>\n",
       "      <td>-0.233470</td>\n",
       "      <td>1.160648</td>\n",
       "      <td>0.605016</td>\n",
       "    </tr>\n",
       "    <tr>\n",
       "      <th>2</th>\n",
       "      <td>2000</td>\n",
       "      <td>0.9</td>\n",
       "      <td>25</td>\n",
       "      <td>30000</td>\n",
       "      <td>17</td>\n",
       "      <td>0.8</td>\n",
       "      <td>1.0</td>\n",
       "      <td>0.8</td>\n",
       "      <td>-1.094196</td>\n",
       "      <td>-0.566130</td>\n",
       "      <td>1.908188</td>\n",
       "      <td>0.947770</td>\n",
       "    </tr>\n",
       "    <tr>\n",
       "      <th>3</th>\n",
       "      <td>2000</td>\n",
       "      <td>0.9</td>\n",
       "      <td>25</td>\n",
       "      <td>30000</td>\n",
       "      <td>17</td>\n",
       "      <td>0.8</td>\n",
       "      <td>1.0</td>\n",
       "      <td>0.8</td>\n",
       "      <td>-1.416485</td>\n",
       "      <td>-0.865039</td>\n",
       "      <td>2.844706</td>\n",
       "      <td>1.310545</td>\n",
       "    </tr>\n",
       "    <tr>\n",
       "      <th>4</th>\n",
       "      <td>2000</td>\n",
       "      <td>0.9</td>\n",
       "      <td>25</td>\n",
       "      <td>37000</td>\n",
       "      <td>17</td>\n",
       "      <td>0.8</td>\n",
       "      <td>1.0</td>\n",
       "      <td>0.8</td>\n",
       "      <td>0.079570</td>\n",
       "      <td>0.054213</td>\n",
       "      <td>0.079570</td>\n",
       "      <td>0.054213</td>\n",
       "    </tr>\n",
       "  </tbody>\n",
       "</table>\n",
       "</div>"
      ],
      "text/plain": [
       "      N  gammaG  Esoil  Econc  Dbot   H1   H2   H3      Mr_t      Mt_t  \\\n",
       "0  2000     0.9     25  30000    17  0.8  1.0  0.8  0.082100  0.055648   \n",
       "1  2000     0.9     25  30000    17  0.8  1.0  0.8 -0.597084 -0.233470   \n",
       "2  2000     0.9     25  30000    17  0.8  1.0  0.8 -1.094196 -0.566130   \n",
       "3  2000     0.9     25  30000    17  0.8  1.0  0.8 -1.416485 -0.865039   \n",
       "4  2000     0.9     25  37000    17  0.8  1.0  0.8  0.079570  0.054213   \n",
       "\n",
       "       Mr_c      Mt_c  \n",
       "0  0.082100  0.055648  \n",
       "1  1.160648  0.605016  \n",
       "2  1.908188  0.947770  \n",
       "3  2.844706  1.310545  \n",
       "4  0.079570  0.054213  "
      ]
     },
     "execution_count": 8,
     "metadata": {},
     "output_type": "execute_result"
    }
   ],
   "source": [
    "X.head()"
   ]
  },
  {
   "cell_type": "code",
   "execution_count": null,
   "metadata": {},
   "outputs": [],
   "source": []
  },
  {
   "cell_type": "code",
   "execution_count": 9,
   "metadata": {},
   "outputs": [],
   "source": [
    "# Split train and test data\n",
    "from sklearn.model_selection import train_test_split\n",
    "X_train_pre, X_test_pre, y_train, y_test = train_test_split(X, y)"
   ]
  },
  {
   "cell_type": "markdown",
   "metadata": {},
   "source": [
    "# Normalization"
   ]
  },
  {
   "cell_type": "code",
   "execution_count": 10,
   "metadata": {},
   "outputs": [
    {
     "name": "stderr",
     "output_type": "stream",
     "text": [
      "C:\\Users\\yaotang\\Anaconda3\\lib\\site-packages\\sklearn\\preprocessing\\data.py:645: DataConversionWarning: Data with input dtype int64, float64 were all converted to float64 by StandardScaler.\n",
      "  return self.partial_fit(X, y)\n",
      "C:\\Users\\yaotang\\Anaconda3\\lib\\site-packages\\ipykernel_launcher.py:6: DataConversionWarning: Data with input dtype int64, float64 were all converted to float64 by StandardScaler.\n",
      "  \n",
      "C:\\Users\\yaotang\\Anaconda3\\lib\\site-packages\\ipykernel_launcher.py:7: DataConversionWarning: Data with input dtype int64, float64 were all converted to float64 by StandardScaler.\n",
      "  import sys\n"
     ]
    }
   ],
   "source": [
    "# Preprocessing & Normalization\n",
    "from sklearn.preprocessing import MinMaxScaler, StandardScaler\n",
    "scaler = StandardScaler()\n",
    "scaler.fit(X_train_pre)\n",
    "# Train and Test data before feature selection\n",
    "X_train = scaler.transform(X_train_pre)\n",
    "X_test = scaler.transform(X_test_pre)"
   ]
  },
  {
   "cell_type": "code",
   "execution_count": 11,
   "metadata": {},
   "outputs": [
    {
     "data": {
      "text/html": [
       "<div>\n",
       "<style scoped>\n",
       "    .dataframe tbody tr th:only-of-type {\n",
       "        vertical-align: middle;\n",
       "    }\n",
       "\n",
       "    .dataframe tbody tr th {\n",
       "        vertical-align: top;\n",
       "    }\n",
       "\n",
       "    .dataframe thead th {\n",
       "        text-align: right;\n",
       "    }\n",
       "</style>\n",
       "<table border=\"1\" class=\"dataframe\">\n",
       "  <thead>\n",
       "    <tr style=\"text-align: right;\">\n",
       "      <th></th>\n",
       "      <th>0</th>\n",
       "      <th>10</th>\n",
       "      <th>18</th>\n",
       "      <th>26</th>\n",
       "    </tr>\n",
       "  </thead>\n",
       "  <tbody>\n",
       "    <tr>\n",
       "      <th>62</th>\n",
       "      <td>0</td>\n",
       "      <td>0</td>\n",
       "      <td>1</td>\n",
       "      <td>0</td>\n",
       "    </tr>\n",
       "    <tr>\n",
       "      <th>335</th>\n",
       "      <td>0</td>\n",
       "      <td>0</td>\n",
       "      <td>0</td>\n",
       "      <td>1</td>\n",
       "    </tr>\n",
       "    <tr>\n",
       "      <th>1751</th>\n",
       "      <td>0</td>\n",
       "      <td>0</td>\n",
       "      <td>0</td>\n",
       "      <td>1</td>\n",
       "    </tr>\n",
       "    <tr>\n",
       "      <th>1450</th>\n",
       "      <td>0</td>\n",
       "      <td>0</td>\n",
       "      <td>1</td>\n",
       "      <td>0</td>\n",
       "    </tr>\n",
       "    <tr>\n",
       "      <th>4249</th>\n",
       "      <td>0</td>\n",
       "      <td>1</td>\n",
       "      <td>0</td>\n",
       "      <td>0</td>\n",
       "    </tr>\n",
       "  </tbody>\n",
       "</table>\n",
       "</div>"
      ],
      "text/plain": [
       "      0  10  18  26\n",
       "62    0   0   1   0\n",
       "335   0   0   0   1\n",
       "1751  0   0   0   1\n",
       "1450  0   0   1   0\n",
       "4249  0   1   0   0"
      ]
     },
     "execution_count": 11,
     "metadata": {},
     "output_type": "execute_result"
    }
   ],
   "source": [
    "y_train.head()"
   ]
  },
  {
   "cell_type": "markdown",
   "metadata": {},
   "source": [
    "Module to Plot Figure"
   ]
  },
  {
   "cell_type": "code",
   "execution_count": 12,
   "metadata": {},
   "outputs": [],
   "source": [
    "def plot_result(y_test,y_pred):\n",
    "    figure, axes = plt.subplots(3, 3,figsize = (12,12))\n",
    "    \n",
    "    row,col = 0, 0\n",
    "    r2 = r2_score(y_test['ecc'], y_pred['ecc'])\n",
    "    sns.regplot(x=y_test['ecc'],y = y_pred['ecc'],ci = 95, ax = axes[row,col])\n",
    "    axes[row,col].set_title('ecc',fontsize = 16)\n",
    "    axes[row,col].set_xlabel('')\n",
    "    axes[row,col].set_ylabel('')\n",
    "    axes[row,col].set_aspect('equal', 'box')\n",
    "    axes[row,col].text(5,20,'R2 = {:3.3f}'.format(r2),fontsize = 12)\n",
    "    \n",
    "    row,col = 0, 1\n",
    "    r2 = r2_score(y_test['N'], y_pred['N'])\n",
    "    sns.regplot(x=y_test['N'],y = y_pred['N'],ci = 95, ax = axes[row,col])\n",
    "    axes[row,col].set_title('N',fontsize = 16)\n",
    "    axes[row,col].set_xlabel('')\n",
    "    axes[row,col].set_ylabel('')\n",
    "    axes[row,col].set_aspect('equal', 'box')\n",
    "    axes[row,col].text(2500,4000,'R2 = {:3.3f}'.format(r2),fontsize = 12)\n",
    "    \n",
    "    row,col = 0, 2\n",
    "    r2 = r2_score(y_test['gammaG'], y_pred['gammaG'])\n",
    "    sns.regplot(x=y_test['gammaG'],y = y_pred['gammaG'],ci = 95, ax = axes[row,col])\n",
    "    axes[row,col].set_title('gammaG',fontsize = 16)\n",
    "    axes[row,col].set_xlabel('')\n",
    "    axes[row,col].set_ylabel('')\n",
    "    axes[row,col].set_aspect('equal', 'box')\n",
    "    axes[row,col].text(1,1.05,'R2 = {:3.3f}'.format(r2),fontsize = 12)\n",
    "    \n",
    "    \n",
    "    row,col = 1, 0\n",
    "    r2 = r2_score(y_test['Esoil'], y_pred['Esoil'])\n",
    "    sns.regplot(x=y_test['Esoil'],y = y_pred['Esoil'],ci = 95, ax = axes[row,col])\n",
    "    axes[row,col].set_title('Esoil',fontsize = 16)\n",
    "    axes[row,col].set_xlabel('')\n",
    "    axes[row,col].set_ylabel('Predict')\n",
    "    axes[row,col].set_aspect('equal', 'box')\n",
    "    axes[row,col].text(40,60,'R2 = {:3.3f}'.format(r2),fontsize = 12)\n",
    "    \n",
    "    row,col = 1, 1\n",
    "    r2 = r2_score(y_test['Econc'], y_pred['Econc'])\n",
    "    sns.regplot(x=y_test['Econc'],y = y_pred['Econc'],ci = 95, ax = axes[row,col])\n",
    "    axes[row,col].set_title('Econc',fontsize = 16)\n",
    "    axes[row,col].set_xlabel('')\n",
    "    axes[row,col].set_ylabel('')\n",
    "    axes[row,col].set_aspect('equal', 'box')\n",
    "    axes[row,col].text(30000,35000,'R2 = {:3.3f}'.format(r2),fontsize = 12)\n",
    "    \n",
    "    row,col = 1, 2\n",
    "    r2 = r2_score(y_test['Dbot'], y_pred['Dbot'])\n",
    "    sns.regplot(x=y_test['Dbot'],y = y_pred['Dbot'],ci = 95, ax = axes[row,col])\n",
    "    axes[row,col].set_title('Dbot',fontsize = 16)\n",
    "    axes[row,col].set_xlabel('')\n",
    "    axes[row,col].set_ylabel('')\n",
    "    axes[row,col].set_aspect('equal', 'box')\n",
    "    axes[row,col].text(18,22,'R2 = {:3.3f}'.format(r2),fontsize = 12)\n",
    "    \n",
    "    row,col = 2, 0\n",
    "    r2 = r2_score(y_test['H1'], y_pred['H1'])\n",
    "    sns.regplot(x=y_test['H1'],y = y_pred['H1'],ci = 95, ax = axes[row,col])\n",
    "    axes[row,col].set_title('H1',fontsize = 16)\n",
    "    axes[row,col].set_xlabel('')\n",
    "    axes[row,col].set_ylabel('')\n",
    "    axes[row,col].set_aspect('equal', 'box')\n",
    "    axes[row,col].text(1,1.5,'R2 = {:3.3f}'.format(r2),fontsize = 12)\n",
    "    \n",
    "    row,col = 2, 1\n",
    "    r2 = r2_score(y_test['H2'], y_pred['H2'])\n",
    "    sns.regplot(x=y_test['H2'],y = y_pred['H2'],ci = 95, ax = axes[row,col])\n",
    "    axes[row,col].set_title('H2',fontsize = 16)\n",
    "    axes[row,col].set_xlabel('Test')\n",
    "    axes[row,col].set_ylabel('')\n",
    "    axes[row,col].set_aspect('equal', 'box')\n",
    "    axes[row,col].text(1.25,1.8,'R2 = {:3.3f}'.format(r2),fontsize = 12)\n",
    "    \n",
    "    row,col = 2, 2\n",
    "    r2 = r2_score(y_test['H3'], y_pred['H3'])\n",
    "    sns.regplot(x=y_test['H3'],y = y_pred['H3'],ci = 95, ax = axes[row,col])\n",
    "    axes[row,col].set_title('H3',fontsize = 16)\n",
    "    axes[row,col].set_xlabel('')\n",
    "    axes[row,col].set_ylabel('')\n",
    "    axes[row,col].set_aspect('equal', 'box')\n",
    "    axes[row,col].text(1000,3000,'R2 = {:3.3f}'.format(r2),fontsize = 12)\n",
    "    "
   ]
  },
  {
   "cell_type": "code",
   "execution_count": 13,
   "metadata": {},
   "outputs": [],
   "source": [
    "# plot_result(y_test,y_pred)"
   ]
  },
  {
   "cell_type": "markdown",
   "metadata": {},
   "source": [
    "# Simple ML Classifiers"
   ]
  },
  {
   "cell_type": "markdown",
   "metadata": {},
   "source": [
    "### k-neighbors regression"
   ]
  },
  {
   "cell_type": "code",
   "execution_count": 17,
   "metadata": {},
   "outputs": [],
   "source": [
    "import tools.plot as plot\n",
    "classes = np.array([\"0\", \"10\", \"18\", \"26\"])"
   ]
  },
  {
   "cell_type": "code",
   "execution_count": 30,
   "metadata": {},
   "outputs": [
    {
     "name": "stdout",
     "output_type": "stream",
     "text": [
      "Confusion matrix, without normalization\n",
      "[[298  15   0   0]\n",
      " [ 14 305   2   0]\n",
      " [ 14   1 309   1]\n",
      " [  1   0  24 312]]\n"
     ]
    },
    {
     "data": {
      "image/png": "[encoded data removed]",
      "text/plain": [
       "<Figure size 576x396 with 2 Axes>"
      ]
     },
     "metadata": {},
     "output_type": "display_data"
    },
    {
     "name": "stdout",
     "output_type": "stream",
     "text": [
      "Accuracy on test set: 0.944\n"
     ]
    }
   ],
   "source": [
    "# (1) k-nearest neighbors\n",
    "from sklearn.neighbors import KNeighborsClassifier\n",
    "\n",
    "model = KNeighborsClassifier(n_neighbors=5)\n",
    "model.fit(X_train,y_train)\n",
    "y_pred = model.predict(X_test)\n",
    "\n",
    "plot.plot_cm(y_test.values.argmax(axis=1), y_pred.argmax(axis=1), classes=classes, normalize=True)\n",
    "print(\"Accuracy on test set: {:.3f}\".format(model.score(X_test, y_test)))"
   ]
  },
  {
   "cell_type": "code",
   "execution_count": 20,
   "metadata": {},
   "outputs": [
    {
     "name": "stdout",
     "output_type": "stream",
     "text": [
      "Confusion matrix, without normalization\n",
      "[[313   0   0   0]\n",
      " [ 24 297   0   0]\n",
      " [305   9  11   0]\n",
      " [  0   1  50 286]]\n"
     ]
    },
    {
     "name": "stderr",
     "output_type": "stream",
     "text": [
      "C:\\Users\\yaotang\\Anaconda3\\lib\\site-packages\\sklearn\\linear_model\\logistic.py:433: FutureWarning: Default solver will be changed to 'lbfgs' in 0.22. Specify a solver to silence this warning.\n",
      "  FutureWarning)\n",
      "C:\\Users\\yaotang\\Anaconda3\\lib\\site-packages\\sklearn\\linear_model\\logistic.py:433: FutureWarning: Default solver will be changed to 'lbfgs' in 0.22. Specify a solver to silence this warning.\n",
      "  FutureWarning)\n",
      "C:\\Users\\yaotang\\Anaconda3\\lib\\site-packages\\sklearn\\linear_model\\logistic.py:433: FutureWarning: Default solver will be changed to 'lbfgs' in 0.22. Specify a solver to silence this warning.\n",
      "  FutureWarning)\n",
      "C:\\Users\\yaotang\\Anaconda3\\lib\\site-packages\\sklearn\\linear_model\\logistic.py:433: FutureWarning: Default solver will be changed to 'lbfgs' in 0.22. Specify a solver to silence this warning.\n",
      "  FutureWarning)\n"
     ]
    },
    {
     "data": {
      "image/png": "[encoded data removed]",
      "text/plain": [
       "<Figure size 576x396 with 2 Axes>"
      ]
     },
     "metadata": {},
     "output_type": "display_data"
    },
    {
     "name": "stdout",
     "output_type": "stream",
     "text": [
      "Accuracy on test set: 0.688\n"
     ]
    }
   ],
   "source": [
    "from sklearn.linear_model import LogisticRegression\n",
    "from sklearn.multioutput import MultiOutputClassifier\n",
    "\n",
    "model = MultiOutputClassifier(LogisticRegression())\n",
    "model.fit(X_train,y_train)\n",
    "y_pred = model.predict(X_test)\n",
    "\n",
    "plot.plot_cm(y_test.values.argmax(axis=1), y_pred.argmax(axis=1), classes=classes, normalize=True)\n",
    "print(\"Accuracy on test set: {:.3f}\".format(model.score(X_test, y_test)))"
   ]
  },
  {
   "cell_type": "code",
   "execution_count": 39,
   "metadata": {},
   "outputs": [
    {
     "name": "stdout",
     "output_type": "stream",
     "text": [
      "Confusion matrix, without normalization\n",
      "[[313   0   0   0]\n",
      " [  0 321   0   0]\n",
      " [  5   0 320   0]\n",
      " [  0   0   0 337]]\n"
     ]
    },
    {
     "data": {
      "image/png": "[encoded data removed]",
      "text/plain": [
       "<Figure size 576x396 with 2 Axes>"
      ]
     },
     "metadata": {},
     "output_type": "display_data"
    },
    {
     "name": "stdout",
     "output_type": "stream",
     "text": [
      "Accuracy on test set: 0.996\n"
     ]
    }
   ],
   "source": [
    "#(5) support vector machine (SVM)\n",
    "from sklearn.svm import SVC\n",
    "from sklearn.multioutput import MultiOutputClassifier\n",
    "\n",
    "model = MultiOutputClassifier(SVC(C = 3))\n",
    "model.fit(X_train,y_train)\n",
    "y_pred = model.predict(X_test)\n",
    "\n",
    "plot.plot_cm(y_test.values.argmax(axis=1), y_pred.argmax(axis=1), classes=classes, normalize=True)\n",
    "print(\"Accuracy on test set: {:.3f}\".format(model.score(X_test, y_test)))"
   ]
  },
  {
   "cell_type": "code",
   "execution_count": 25,
   "metadata": {},
   "outputs": [
    {
     "name": "stdout",
     "output_type": "stream",
     "text": [
      "Confusion matrix, without normalization\n",
      "[[313   0   0   0]\n",
      " [  0 321   0   0]\n",
      " [  0   0 325   0]\n",
      " [  0   0   0 337]]\n"
     ]
    },
    {
     "data": {
      "image/png": "[encoded data removed]",
      "text/plain": [
       "<Figure size 576x396 with 2 Axes>"
      ]
     },
     "metadata": {},
     "output_type": "display_data"
    },
    {
     "name": "stdout",
     "output_type": "stream",
     "text": [
      "Accuracy on test set: 1.000\n"
     ]
    }
   ],
   "source": [
    "# (6) decision trees\n",
    "from sklearn.tree import DecisionTreeClassifier\n",
    "from sklearn.multioutput import MultiOutputClassifier\n",
    "\n",
    "# model = MultiOutputClassifier(LinearSVC())\n",
    "model = DecisionTreeClassifier(random_state = 2)\n",
    "model.fit(X_train,y_train)\n",
    "y_pred = model.predict(X_test)\n",
    "\n",
    "plot.plot_cm(y_test.values.argmax(axis=1), y_pred.argmax(axis=1), classes=classes, normalize=True)\n",
    "print(\"Accuracy on test set: {:.3f}\".format(model.score(X_test, y_test)))"
   ]
  },
  {
   "cell_type": "code",
   "execution_count": 26,
   "metadata": {},
   "outputs": [
    {
     "name": "stdout",
     "output_type": "stream",
     "text": [
      "Confusion matrix, without normalization\n",
      "[[313   0   0   0]\n",
      " [  4 317   0   0]\n",
      " [  0   0 325   0]\n",
      " [  2   0   0 335]]\n"
     ]
    },
    {
     "data": {
      "image/png": "[encoded data removed]",
      "text/plain": [
       "<Figure size 576x396 with 2 Axes>"
      ]
     },
     "metadata": {},
     "output_type": "display_data"
    },
    {
     "name": "stdout",
     "output_type": "stream",
     "text": [
      "Accuracy on test set: 0.995\n"
     ]
    }
   ],
   "source": [
    "# (8) Random Forest\n",
    "from sklearn.ensemble import RandomForestClassifier\n",
    "model = RandomForestClassifier(n_estimators=2, random_state=5)\n",
    "model.fit(X_train,y_train)\n",
    "y_pred = model.predict(X_test)\n",
    "\n",
    "plot.plot_cm(y_test.values.argmax(axis=1), y_pred.argmax(axis=1), classes=classes, normalize=True)\n",
    "print(\"Accuracy on test set: {:.3f}\".format(model.score(X_test, y_test)))"
   ]
  },
  {
   "cell_type": "code",
   "execution_count": 28,
   "metadata": {},
   "outputs": [
    {
     "name": "stdout",
     "output_type": "stream",
     "text": [
      "Confusion matrix, without normalization\n",
      "[[313   0   0   0]\n",
      " [  0 321   0   0]\n",
      " [  0   0 325   0]\n",
      " [  0   0   0 337]]\n"
     ]
    },
    {
     "data": {
      "image/png": "[encoded data removed]",
      "text/plain": [
       "<Figure size 576x396 with 2 Axes>"
      ]
     },
     "metadata": {},
     "output_type": "display_data"
    },
    {
     "name": "stdout",
     "output_type": "stream",
     "text": [
      "Accuracy on test set: 1.000\n"
     ]
    }
   ],
   "source": [
    "# (9) Gradient Boosted Regression Trees\n",
    "from sklearn.ensemble import GradientBoostingClassifier\n",
    "from sklearn.multioutput import MultiOutputClassifier\n",
    "\n",
    "model = MultiOutputClassifier(GradientBoostingClassifier(random_state=0))\n",
    "\n",
    "model.fit(X_train,y_train)\n",
    "y_pred = model.predict(X_test)\n",
    "\n",
    "plot.plot_cm(y_test.values.argmax(axis=1), y_pred.argmax(axis=1), classes=classes, normalize=True)\n",
    "print(\"Accuracy on test set: {:.3f}\".format(model.score(X_test, y_test)))"
   ]
  },
  {
   "cell_type": "code",
   "execution_count": 29,
   "metadata": {},
   "outputs": [
    {
     "name": "stdout",
     "output_type": "stream",
     "text": [
      "Confusion matrix, without normalization\n",
      "[[313   0   0   0]\n",
      " [  0 321   0   0]\n",
      " [  0   0 325   0]\n",
      " [  0   0   0 337]]\n"
     ]
    },
    {
     "data": {
      "image/png": "[encoded data removed]",
      "text/plain": [
       "<Figure size 576x396 with 2 Axes>"
      ]
     },
     "metadata": {},
     "output_type": "display_data"
    },
    {
     "name": "stdout",
     "output_type": "stream",
     "text": [
      "Accuracy on test set: 1.000\n"
     ]
    }
   ],
   "source": [
    "#(10) Neural Networks\n",
    "from sklearn.neural_network import MLPClassifier\n",
    "model = MLPClassifier(solver='lbfgs', random_state=0)\n",
    "\n",
    "model.fit(X_train,y_train)\n",
    "y_pred = model.predict(X_test)\n",
    "\n",
    "plot.plot_cm(y_test.values.argmax(axis=1), y_pred.argmax(axis=1), classes=classes, normalize=True)\n",
    "print(\"Accuracy on test set: {:.3f}\".format(model.score(X_test, y_test)))"
   ]
  },
  {
   "cell_type": "code",
   "execution_count": null,
   "metadata": {},
   "outputs": [],
   "source": []
  }
 ],
 "metadata": {
  "kernelspec": {
   "display_name": "Python 3",
   "language": "python",
   "name": "python3"
  },
  "language_info": {
   "codemirror_mode": {
    "name": "ipython",
    "version": 3
   },
   "file_extension": ".py",
   "mimetype": "text/x-python",
   "name": "python",
   "nbconvert_exporter": "python",
   "pygments_lexer": "ipython3",
   "version": "3.7.3"
  }
 },
 "nbformat": 4,
 "nbformat_minor": 2
}
